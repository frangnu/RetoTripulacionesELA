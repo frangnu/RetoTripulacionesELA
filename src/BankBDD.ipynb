{
 "metadata": {
  "language_info": {
   "codemirror_mode": {
    "name": "ipython",
    "version": 3
   },
   "file_extension": ".py",
   "mimetype": "text/x-python",
   "name": "python",
   "nbconvert_exporter": "python",
   "pygments_lexer": "ipython3",
   "version": "3.8.3-final"
  },
  "orig_nbformat": 2,
  "kernelspec": {
   "name": "python3",
   "display_name": "Python 3.8.3 64-bit",
   "metadata": {
    "interpreter": {
     "hash": "2db524e06e9f5f4ffedc911c917cb75e12dbc923643829bf417064a77eb14d37"
    }
   }
  }
 },
 "nbformat": 4,
 "nbformat_minor": 2,
 "cells": [
  {
   "cell_type": "code",
   "execution_count": 1,
   "metadata": {},
   "outputs": [],
   "source": [
    "import pandas as pd\n",
    "from faker import Faker\n",
    "import random as rnd\n",
    "import matplotlib.pyplot as plt\n",
    "import json"
   ]
  },
  {
   "cell_type": "code",
   "execution_count": 2,
   "metadata": {},
   "outputs": [],
   "source": [
    "FK = Faker(\"es_ES\")"
   ]
  },
  {
   "cell_type": "code",
   "execution_count": 3,
   "metadata": {},
   "outputs": [],
   "source": [
    "def genName():\n",
    "    name = FK.first_name()\n",
    "    lastName = FK.last_name()\n",
    "    surName = FK.last_name()\n",
    "    return name, lastName, surName\n",
    "\n",
    "def genIBAN():\n",
    "    iban = FK.iban()\n",
    "    return iban\n",
    "\n",
    "def genEmail():\n",
    "    mail = FK.email()\n",
    "    return mail\n",
    "\n",
    "def genPhone():\n",
    "    phone = FK.phone_number()\n",
    "    return phone.replace(\" \", \"\")\n",
    "\n",
    "def genIncome():\n",
    "    ranges = [0.0318, 0.1694, 0.3627, 0.5251, 0.6908, 0.8031, 0.9596, 1.000]\n",
    "    values = [0, 500, 1000, 1500, 2000, 2500, 3000, 5000, 10000]\n",
    "    random = rnd.random()\n",
    "    if random < ranges[0]:\n",
    "        income = rnd.randint(0, 499)\n",
    "    elif random < ranges[1]:\n",
    "        income = rnd.randint(500, 999)\n",
    "    elif random < ranges[2]:\n",
    "        income = rnd.randint(1000, 1499)\n",
    "    elif random < ranges[3]:\n",
    "        income = rnd.randint(1500, 1999)\n",
    "    elif random < ranges[4]:\n",
    "        income = rnd.randint(2000, 2499)\n",
    "    elif random < ranges[5]:\n",
    "        income = rnd.randint(2500, 2999)\n",
    "    elif random < ranges[6]:\n",
    "        income = rnd.randint(3000, 4999)\n",
    "    else:\n",
    "        income = rnd.randint(5000, 10000) \n",
    "\n",
    "    return income\n",
    "\n",
    "def genChildren():\n",
    "    ranges = [0.3269, 0.6765, 0.9463]\n",
    "    values = [0, 1, 2, 3]\n",
    "    random = rnd.random()\n",
    "    if random < ranges[0]:\n",
    "        children = values[0]\n",
    "    elif random < ranges[1]:\n",
    "        children = values[1]\n",
    "    elif random < ranges[2]:\n",
    "        children = values[2]\n",
    "    else:\n",
    "        children = values[3]\n",
    "\n",
    "    return children\n",
    "\n",
    "def genDNI():\n",
    "    dni = FK.nif()\n",
    "    return dni\n",
    "\n",
    "def genPassword():\n",
    "    password = FK.password()\n",
    "    return password"
   ]
  },
  {
   "cell_type": "code",
   "execution_count": 4,
   "metadata": {},
   "outputs": [],
   "source": [
    "collection = []\n",
    "for i in range(200):\n",
    "    name, lastName, lastLastName = genName()\n",
    "    iban = genIBAN()\n",
    "    email = genEmail()\n",
    "    phone = genPhone()\n",
    "    income = genIncome()\n",
    "    children = genChildren()\n",
    "    ID = genDNI()\n",
    "    password = genPassword()\n",
    "\n",
    "    collection.append({\"Name\":name, \n",
    "                       \"LastName\":lastName,\n",
    "                       \"LastLastName\":lastLastName,\n",
    "                       \"IBAN\":iban,\n",
    "                       \"Email\":email,\n",
    "                       \"Phone\":phone,\n",
    "                       \"Income\":income,\n",
    "                       \"Children\":children,\n",
    "                       \"ID\":ID,\n",
    "                       \"Password\":password})"
   ]
  },
  {
   "cell_type": "code",
   "execution_count": 5,
   "metadata": {},
   "outputs": [
    {
     "output_type": "execute_result",
     "data": {
      "text/plain": [
       "           Name LastName LastLastName                      IBAN  \\\n",
       "0      Cristina    Jaume        Ramos  ES6701567506226743064114   \n",
       "1          Maxi    Pardo      Almeida  ES7176618916467387345226   \n",
       "2    Bernardita     Ríos         Rios  ES4171044202477320552188   \n",
       "3      Angélica    Pinto      Estrada  ES2396904538614702251768   \n",
       "4          Eloy  Cornejo        Galan  ES7873119123868084382231   \n",
       "..          ...      ...          ...                       ...   \n",
       "195     Vinicio  Esteban      Casares  ES5717957760374644140259   \n",
       "196    Agustina  Barbero      Perelló  ES7746027386481034987864   \n",
       "197       Amaro   Santos          Gil  ES1223330976222545262112   \n",
       "198    Leopoldo     Miró      Pinilla  ES8902229833894726010554   \n",
       "199      Gastón    Carro      Barceló  ES4705965204160567204201   \n",
       "\n",
       "                                    Email         Phone  Income  Children  \\\n",
       "0        salvadorpellicer@agudo-rueda.com  +34710922165    1333         2   \n",
       "1    jose-antoniozapata@morata-galvez.com  +34850081107    2522         1   \n",
       "2                    albina24@hotmail.com  +34712095092    1971         0   \n",
       "3                farremaximiano@mendez.es  +34623828097    2423         0   \n",
       "4              juan-francisco36@gmail.com  +34696393548    3973         0   \n",
       "..                                    ...           ...     ...       ...   \n",
       "195                  esparzamaximo@mas.es  +34917046310    2527         0   \n",
       "196                   dorotea61@ricart.es  +34741534036    1489         0   \n",
       "197          maria-angelesmoles@yahoo.com  +34710977935    3013         0   \n",
       "198                    halmeida@solano.es  +34642519312    2193         1   \n",
       "199                     pllobet@yahoo.com  +34936312933    1998         1   \n",
       "\n",
       "            ID    Password  \n",
       "0    81769669T  5hX$$ASt*t  \n",
       "1    83134727P  %J1ZVXJwYe  \n",
       "2    02789837Y  9xIL&edL_K  \n",
       "3    70873292B  y6N%da(R%1  \n",
       "4    60269349B  Kcu&7U%kw_  \n",
       "..         ...         ...  \n",
       "195  52960728P  pyJ9vXqw+G  \n",
       "196  39012732V  g7f$3kIg0$  \n",
       "197  22107355P  )S_2BcoHFS  \n",
       "198  06835930P  87@OsL(z)2  \n",
       "199  25393154G  e(ADtIv1*8  \n",
       "\n",
       "[200 rows x 10 columns]"
      ],
      "text/html": "<div>\n<style scoped>\n    .dataframe tbody tr th:only-of-type {\n        vertical-align: middle;\n    }\n\n    .dataframe tbody tr th {\n        vertical-align: top;\n    }\n\n    .dataframe thead th {\n        text-align: right;\n    }\n</style>\n<table border=\"1\" class=\"dataframe\">\n  <thead>\n    <tr style=\"text-align: right;\">\n      <th></th>\n      <th>Name</th>\n      <th>LastName</th>\n      <th>LastLastName</th>\n      <th>IBAN</th>\n      <th>Email</th>\n      <th>Phone</th>\n      <th>Income</th>\n      <th>Children</th>\n      <th>ID</th>\n      <th>Password</th>\n    </tr>\n  </thead>\n  <tbody>\n    <tr>\n      <th>0</th>\n      <td>Cristina</td>\n      <td>Jaume</td>\n      <td>Ramos</td>\n      <td>ES6701567506226743064114</td>\n      <td>salvadorpellicer@agudo-rueda.com</td>\n      <td>+34710922165</td>\n      <td>1333</td>\n      <td>2</td>\n      <td>81769669T</td>\n      <td>5hX$$ASt*t</td>\n    </tr>\n    <tr>\n      <th>1</th>\n      <td>Maxi</td>\n      <td>Pardo</td>\n      <td>Almeida</td>\n      <td>ES7176618916467387345226</td>\n      <td>jose-antoniozapata@morata-galvez.com</td>\n      <td>+34850081107</td>\n      <td>2522</td>\n      <td>1</td>\n      <td>83134727P</td>\n      <td>%J1ZVXJwYe</td>\n    </tr>\n    <tr>\n      <th>2</th>\n      <td>Bernardita</td>\n      <td>Ríos</td>\n      <td>Rios</td>\n      <td>ES4171044202477320552188</td>\n      <td>albina24@hotmail.com</td>\n      <td>+34712095092</td>\n      <td>1971</td>\n      <td>0</td>\n      <td>02789837Y</td>\n      <td>9xIL&amp;edL_K</td>\n    </tr>\n    <tr>\n      <th>3</th>\n      <td>Angélica</td>\n      <td>Pinto</td>\n      <td>Estrada</td>\n      <td>ES2396904538614702251768</td>\n      <td>farremaximiano@mendez.es</td>\n      <td>+34623828097</td>\n      <td>2423</td>\n      <td>0</td>\n      <td>70873292B</td>\n      <td>y6N%da(R%1</td>\n    </tr>\n    <tr>\n      <th>4</th>\n      <td>Eloy</td>\n      <td>Cornejo</td>\n      <td>Galan</td>\n      <td>ES7873119123868084382231</td>\n      <td>juan-francisco36@gmail.com</td>\n      <td>+34696393548</td>\n      <td>3973</td>\n      <td>0</td>\n      <td>60269349B</td>\n      <td>Kcu&amp;7U%kw_</td>\n    </tr>\n    <tr>\n      <th>...</th>\n      <td>...</td>\n      <td>...</td>\n      <td>...</td>\n      <td>...</td>\n      <td>...</td>\n      <td>...</td>\n      <td>...</td>\n      <td>...</td>\n      <td>...</td>\n      <td>...</td>\n    </tr>\n    <tr>\n      <th>195</th>\n      <td>Vinicio</td>\n      <td>Esteban</td>\n      <td>Casares</td>\n      <td>ES5717957760374644140259</td>\n      <td>esparzamaximo@mas.es</td>\n      <td>+34917046310</td>\n      <td>2527</td>\n      <td>0</td>\n      <td>52960728P</td>\n      <td>pyJ9vXqw+G</td>\n    </tr>\n    <tr>\n      <th>196</th>\n      <td>Agustina</td>\n      <td>Barbero</td>\n      <td>Perelló</td>\n      <td>ES7746027386481034987864</td>\n      <td>dorotea61@ricart.es</td>\n      <td>+34741534036</td>\n      <td>1489</td>\n      <td>0</td>\n      <td>39012732V</td>\n      <td>g7f$3kIg0$</td>\n    </tr>\n    <tr>\n      <th>197</th>\n      <td>Amaro</td>\n      <td>Santos</td>\n      <td>Gil</td>\n      <td>ES1223330976222545262112</td>\n      <td>maria-angelesmoles@yahoo.com</td>\n      <td>+34710977935</td>\n      <td>3013</td>\n      <td>0</td>\n      <td>22107355P</td>\n      <td>)S_2BcoHFS</td>\n    </tr>\n    <tr>\n      <th>198</th>\n      <td>Leopoldo</td>\n      <td>Miró</td>\n      <td>Pinilla</td>\n      <td>ES8902229833894726010554</td>\n      <td>halmeida@solano.es</td>\n      <td>+34642519312</td>\n      <td>2193</td>\n      <td>1</td>\n      <td>06835930P</td>\n      <td>87@OsL(z)2</td>\n    </tr>\n    <tr>\n      <th>199</th>\n      <td>Gastón</td>\n      <td>Carro</td>\n      <td>Barceló</td>\n      <td>ES4705965204160567204201</td>\n      <td>pllobet@yahoo.com</td>\n      <td>+34936312933</td>\n      <td>1998</td>\n      <td>1</td>\n      <td>25393154G</td>\n      <td>e(ADtIv1*8</td>\n    </tr>\n  </tbody>\n</table>\n<p>200 rows × 10 columns</p>\n</div>"
     },
     "metadata": {},
     "execution_count": 5
    }
   ],
   "source": [
    "pd.DataFrame(collection)"
   ]
  },
  {
   "cell_type": "code",
   "execution_count": 144,
   "metadata": {},
   "outputs": [],
   "source": [
    "with open(\"bankBDD.json\", \"w\") as outfile:\n",
    "    json.dump(collection, outfile)"
   ]
  },
  {
   "cell_type": "code",
   "execution_count": null,
   "metadata": {},
   "outputs": [],
   "source": []
  }
 ]
}